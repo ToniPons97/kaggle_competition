{
 "cells": [
  {
   "cell_type": "code",
   "execution_count": 1,
   "metadata": {},
   "outputs": [],
   "source": [
    "import pandas as pd\n",
    "import matplotlib.pyplot as plt\n",
    "import seaborn as sns\n",
    "from sklearn.ensemble import GradientBoostingClassifier\n",
    "from sklearn.model_selection import train_test_split\n",
    "from sklearn.metrics import classification_report, confusion_matrix, roc_curve, auc"
   ]
  },
  {
   "cell_type": "code",
   "execution_count": 2,
   "metadata": {},
   "outputs": [],
   "source": [
    "df = pd.read_csv(\"./avila/training_dataset.csv\")"
   ]
  },
  {
   "cell_type": "code",
   "execution_count": 3,
   "metadata": {},
   "outputs": [],
   "source": [
    "df_train = pd.read_csv(\"./avila/test_dataset.csv\")"
   ]
  },
  {
   "cell_type": "code",
   "execution_count": 12,
   "metadata": {},
   "outputs": [],
   "source": [
    "df.rename(columns={\"F1\": \"intercolumnar distance\",\n",
    "\"F2\": \"upper margin\",\n",
    "\"F3\": \"lower margin\",\n",
    "\"F4\": \"exploitation\",\n",
    "\"F5\": \"row number\",\n",
    "\"F6\": \"modular ratio\",\n",
    "\"F7\": \"interlinear spacing\",\n",
    "\"F8\": \"weight\",\n",
    "\"F9\": \"peak number\",\n",
    "\"F10\": \"modular ratio/ interlinear spacing\"}, inplace=True)"
   ]
  },
  {
   "cell_type": "code",
   "execution_count": 13,
   "metadata": {},
   "outputs": [
    {
     "data": {
      "text/html": [
       "<div>\n",
       "<style scoped>\n",
       "    .dataframe tbody tr th:only-of-type {\n",
       "        vertical-align: middle;\n",
       "    }\n",
       "\n",
       "    .dataframe tbody tr th {\n",
       "        vertical-align: top;\n",
       "    }\n",
       "\n",
       "    .dataframe thead th {\n",
       "        text-align: right;\n",
       "    }\n",
       "</style>\n",
       "<table border=\"1\" class=\"dataframe\">\n",
       "  <thead>\n",
       "    <tr style=\"text-align: right;\">\n",
       "      <th></th>\n",
       "      <th>id</th>\n",
       "      <th>intercolumnar distance</th>\n",
       "      <th>upper margin</th>\n",
       "      <th>lower margin</th>\n",
       "      <th>exploitation</th>\n",
       "      <th>row number</th>\n",
       "      <th>modular ratio</th>\n",
       "      <th>interlinear spacing</th>\n",
       "      <th>weight</th>\n",
       "      <th>peak number</th>\n",
       "      <th>modular ratio/ interlinear spacing</th>\n",
       "      <th>scribe</th>\n",
       "    </tr>\n",
       "  </thead>\n",
       "  <tbody>\n",
       "    <tr>\n",
       "      <th>0</th>\n",
       "      <td>0</td>\n",
       "      <td>-0.091897</td>\n",
       "      <td>0.297600</td>\n",
       "      <td>0.079145</td>\n",
       "      <td>0.196496</td>\n",
       "      <td>0.261718</td>\n",
       "      <td>1.269960</td>\n",
       "      <td>0.446679</td>\n",
       "      <td>-0.751707</td>\n",
       "      <td>0.001721</td>\n",
       "      <td>0.998901</td>\n",
       "      <td>0</td>\n",
       "    </tr>\n",
       "    <tr>\n",
       "      <th>1</th>\n",
       "      <td>1</td>\n",
       "      <td>-0.091897</td>\n",
       "      <td>0.226939</td>\n",
       "      <td>0.267634</td>\n",
       "      <td>0.024091</td>\n",
       "      <td>0.261718</td>\n",
       "      <td>-0.806282</td>\n",
       "      <td>0.597681</td>\n",
       "      <td>-0.601277</td>\n",
       "      <td>0.126447</td>\n",
       "      <td>-0.909619</td>\n",
       "      <td>1</td>\n",
       "    </tr>\n",
       "    <tr>\n",
       "      <th>2</th>\n",
       "      <td>2</td>\n",
       "      <td>0.167323</td>\n",
       "      <td>0.313302</td>\n",
       "      <td>0.168055</td>\n",
       "      <td>-0.383198</td>\n",
       "      <td>0.261718</td>\n",
       "      <td>0.190314</td>\n",
       "      <td>0.824183</td>\n",
       "      <td>0.558250</td>\n",
       "      <td>-0.247731</td>\n",
       "      <td>-0.148073</td>\n",
       "      <td>2</td>\n",
       "    </tr>\n",
       "    <tr>\n",
       "      <th>3</th>\n",
       "      <td>3</td>\n",
       "      <td>-0.017834</td>\n",
       "      <td>-0.228430</td>\n",
       "      <td>0.370770</td>\n",
       "      <td>1.293671</td>\n",
       "      <td>0.172340</td>\n",
       "      <td>0.896237</td>\n",
       "      <td>0.182426</td>\n",
       "      <td>0.416867</td>\n",
       "      <td>1.373706</td>\n",
       "      <td>0.868284</td>\n",
       "      <td>3</td>\n",
       "    </tr>\n",
       "    <tr>\n",
       "      <th>4</th>\n",
       "      <td>4</td>\n",
       "      <td>0.043885</td>\n",
       "      <td>0.407516</td>\n",
       "      <td>-0.120014</td>\n",
       "      <td>0.281743</td>\n",
       "      <td>0.261718</td>\n",
       "      <td>-0.183409</td>\n",
       "      <td>0.106925</td>\n",
       "      <td>0.142896</td>\n",
       "      <td>0.531806</td>\n",
       "      <td>-0.101311</td>\n",
       "      <td>2</td>\n",
       "    </tr>\n",
       "  </tbody>\n",
       "</table>\n",
       "</div>"
      ],
      "text/plain": [
       "   id  intercolumnar distance  upper margin  lower margin  exploitation  \\\n",
       "0   0               -0.091897      0.297600      0.079145      0.196496   \n",
       "1   1               -0.091897      0.226939      0.267634      0.024091   \n",
       "2   2                0.167323      0.313302      0.168055     -0.383198   \n",
       "3   3               -0.017834     -0.228430      0.370770      1.293671   \n",
       "4   4                0.043885      0.407516     -0.120014      0.281743   \n",
       "\n",
       "   row number  modular ratio  interlinear spacing    weight  peak number  \\\n",
       "0    0.261718       1.269960             0.446679 -0.751707     0.001721   \n",
       "1    0.261718      -0.806282             0.597681 -0.601277     0.126447   \n",
       "2    0.261718       0.190314             0.824183  0.558250    -0.247731   \n",
       "3    0.172340       0.896237             0.182426  0.416867     1.373706   \n",
       "4    0.261718      -0.183409             0.106925  0.142896     0.531806   \n",
       "\n",
       "   modular ratio/ interlinear spacing scribe  \n",
       "0                            0.998901      0  \n",
       "1                           -0.909619      1  \n",
       "2                           -0.148073      2  \n",
       "3                            0.868284      3  \n",
       "4                           -0.101311      2  "
      ]
     },
     "execution_count": 13,
     "metadata": {},
     "output_type": "execute_result"
    }
   ],
   "source": [
    "df.head()"
   ]
  },
  {
   "cell_type": "code",
   "execution_count": null,
   "metadata": {},
   "outputs": [],
   "source": []
  },
  {
   "cell_type": "code",
   "execution_count": null,
   "metadata": {},
   "outputs": [],
   "source": []
  },
  {
   "cell_type": "code",
   "execution_count": 14,
   "metadata": {},
   "outputs": [
    {
     "data": {
      "text/plain": [
       "id                                    0\n",
       "intercolumnar distance                0\n",
       "upper margin                          0\n",
       "lower margin                          0\n",
       "exploitation                          0\n",
       "row number                            0\n",
       "modular ratio                         0\n",
       "interlinear spacing                   0\n",
       "weight                                0\n",
       "peak number                           0\n",
       "modular ratio/ interlinear spacing    0\n",
       "scribe                                0\n",
       "dtype: int64"
      ]
     },
     "execution_count": 14,
     "metadata": {},
     "output_type": "execute_result"
    }
   ],
   "source": [
    "df.isna().sum()"
   ]
  },
  {
   "cell_type": "code",
   "execution_count": 6,
   "metadata": {},
   "outputs": [
    {
     "data": {
      "text/plain": [
       "array(['Philippus', 'Paithonius', 'Marcus', 'Noaelius', 'Begonius',\n",
       "       'Franciscus', 'Ubuntius', 'FerrumEffractarius'], dtype=object)"
      ]
     },
     "execution_count": 6,
     "metadata": {},
     "output_type": "execute_result"
    }
   ],
   "source": [
    "df[\"scribe\"].unique()"
   ]
  },
  {
   "cell_type": "code",
   "execution_count": 45,
   "metadata": {},
   "outputs": [],
   "source": [
    "df[\"scribe\"].replace(to_replace={\"Philippus\" : 0, \"Paithonius\" : 1, \"Marcus\" : 2, \"Noaelius\" : 3, \"Begonius\" : 4\n",
    "                                    , \"Franciscus\" : 5, \"Ubuntius\" : 6, \"FerrumEffractarius\" : 7}, inplace=True)"
   ]
  },
  {
   "cell_type": "code",
   "execution_count": 48,
   "metadata": {},
   "outputs": [],
   "source": [
    "X = df[[\"id\", \"intercolumnar distance\", \"upper margin\", \"lower margin\", \"exploitation\", \"row number\", \"modular ratio\", \"interlinear spacing\", \"weight\", \"peak number\", \"modular ratio/ interlinear spacing\"]]"
   ]
  },
  {
   "cell_type": "code",
   "execution_count": 49,
   "metadata": {},
   "outputs": [],
   "source": [
    "y = df[\"scribe\"]"
   ]
  },
  {
   "cell_type": "code",
   "execution_count": null,
   "metadata": {},
   "outputs": [],
   "source": []
  },
  {
   "cell_type": "code",
   "execution_count": null,
   "metadata": {},
   "outputs": [],
   "source": []
  },
  {
   "cell_type": "code",
   "execution_count": null,
   "metadata": {},
   "outputs": [],
   "source": []
  },
  {
   "cell_type": "code",
   "execution_count": 50,
   "metadata": {},
   "outputs": [],
   "source": [
    "X_train, X_test, y_train, y_test = train_test_split(X, y, test_size=0.2)"
   ]
  },
  {
   "cell_type": "code",
   "execution_count": 51,
   "metadata": {},
   "outputs": [],
   "source": [
    "clf = GradientBoostingClassifier()"
   ]
  },
  {
   "cell_type": "code",
   "execution_count": 52,
   "metadata": {},
   "outputs": [
    {
     "data": {
      "text/plain": [
       "GradientBoostingClassifier(criterion='friedman_mse', init=None,\n",
       "                           learning_rate=0.1, loss='deviance', max_depth=3,\n",
       "                           max_features=None, max_leaf_nodes=None,\n",
       "                           min_impurity_decrease=0.0, min_impurity_split=None,\n",
       "                           min_samples_leaf=1, min_samples_split=2,\n",
       "                           min_weight_fraction_leaf=0.0, n_estimators=100,\n",
       "                           n_iter_no_change=None, presort='auto',\n",
       "                           random_state=None, subsample=1.0, tol=0.0001,\n",
       "                           validation_fraction=0.1, verbose=0,\n",
       "                           warm_start=False)"
      ]
     },
     "execution_count": 52,
     "metadata": {},
     "output_type": "execute_result"
    }
   ],
   "source": [
    "clf.fit(X_train, y_train)"
   ]
  },
  {
   "cell_type": "code",
   "execution_count": 53,
   "metadata": {},
   "outputs": [
    {
     "data": {
      "text/plain": [
       "0.93261231281198"
      ]
     },
     "execution_count": 53,
     "metadata": {},
     "output_type": "execute_result"
    }
   ],
   "source": [
    "clf.score(X_test, y_test)"
   ]
  },
  {
   "cell_type": "code",
   "execution_count": null,
   "metadata": {},
   "outputs": [],
   "source": []
  }
 ],
 "metadata": {
  "kernelspec": {
   "display_name": "Python 3",
   "language": "python",
   "name": "python3"
  },
  "language_info": {
   "codemirror_mode": {
    "name": "ipython",
    "version": 3
   },
   "file_extension": ".py",
   "mimetype": "text/x-python",
   "name": "python",
   "nbconvert_exporter": "python",
   "pygments_lexer": "ipython3",
   "version": "3.7.5"
  }
 },
 "nbformat": 4,
 "nbformat_minor": 2
}
