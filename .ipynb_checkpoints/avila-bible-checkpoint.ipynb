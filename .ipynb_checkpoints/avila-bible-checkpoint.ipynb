{
 "cells": [
  {
   "cell_type": "code",
   "execution_count": 1,
   "metadata": {},
   "outputs": [],
   "source": [
    "import pandas as pd\n",
    "import matplotlib.pyplot as plt\n",
    "import seaborn as sns\n",
    "\n",
    "from sklearn.ensemble import GradientBoostingClassifier\n",
    "from sklearn.ensemble import RandomForestClassifier\n",
    "from sklearn.ensemble import AdaBoostClassifier\n",
    "from sklearn.svm import SVC\n",
    "from sklearn.neighbors import KNeighborsClassifier\n",
    "\n",
    "from sklearn.model_selection import train_test_split\n",
    "from sklearn.metrics import classification_report, confusion_matrix, roc_curve, auc\n",
    "from sklearn.metrics import accuracy_score\n",
    "from sklearn.metrics import precision_score\n",
    "from sklearn.metrics import recall_score"
   ]
  },
  {
   "cell_type": "code",
   "execution_count": 2,
   "metadata": {},
   "outputs": [],
   "source": [
    "df = pd.read_csv(\"./avila/training_dataset.csv\")"
   ]
  },
  {
   "cell_type": "code",
   "execution_count": 3,
   "metadata": {},
   "outputs": [],
   "source": [
    "df_test = pd.read_csv(\"./avila/test_dataset.csv\")"
   ]
  },
  {
   "cell_type": "code",
   "execution_count": 4,
   "metadata": {},
   "outputs": [],
   "source": [
    "df.rename(columns={\"F1\": \"intercolumnar distance\",\n",
    "\"F2\": \"upper margin\",\n",
    "\"F3\": \"lower margin\",\n",
    "\"F4\": \"exploitation\",\n",
    "\"F5\": \"row number\",\n",
    "\"F6\": \"modular ratio\",\n",
    "\"F7\": \"interlinear spacing\",\n",
    "\"F8\": \"weight\",\n",
    "\"F9\": \"peak number\",\n",
    "\"F10\": \"modular ratio/ interlinear spacing\"}, inplace=True)"
   ]
  },
  {
   "cell_type": "code",
   "execution_count": 5,
   "metadata": {},
   "outputs": [
    {
     "data": {
      "text/html": [
       "<div>\n",
       "<style scoped>\n",
       "    .dataframe tbody tr th:only-of-type {\n",
       "        vertical-align: middle;\n",
       "    }\n",
       "\n",
       "    .dataframe tbody tr th {\n",
       "        vertical-align: top;\n",
       "    }\n",
       "\n",
       "    .dataframe thead th {\n",
       "        text-align: right;\n",
       "    }\n",
       "</style>\n",
       "<table border=\"1\" class=\"dataframe\">\n",
       "  <thead>\n",
       "    <tr style=\"text-align: right;\">\n",
       "      <th></th>\n",
       "      <th>id</th>\n",
       "      <th>intercolumnar distance</th>\n",
       "      <th>upper margin</th>\n",
       "      <th>lower margin</th>\n",
       "      <th>exploitation</th>\n",
       "      <th>row number</th>\n",
       "      <th>modular ratio</th>\n",
       "      <th>interlinear spacing</th>\n",
       "      <th>weight</th>\n",
       "      <th>peak number</th>\n",
       "      <th>modular ratio/ interlinear spacing</th>\n",
       "      <th>scribe</th>\n",
       "    </tr>\n",
       "  </thead>\n",
       "  <tbody>\n",
       "    <tr>\n",
       "      <th>0</th>\n",
       "      <td>0</td>\n",
       "      <td>-0.091897</td>\n",
       "      <td>0.297600</td>\n",
       "      <td>0.079145</td>\n",
       "      <td>0.196496</td>\n",
       "      <td>0.261718</td>\n",
       "      <td>1.269960</td>\n",
       "      <td>0.446679</td>\n",
       "      <td>-0.751707</td>\n",
       "      <td>0.001721</td>\n",
       "      <td>0.998901</td>\n",
       "      <td>Philippus</td>\n",
       "    </tr>\n",
       "    <tr>\n",
       "      <th>1</th>\n",
       "      <td>1</td>\n",
       "      <td>-0.091897</td>\n",
       "      <td>0.226939</td>\n",
       "      <td>0.267634</td>\n",
       "      <td>0.024091</td>\n",
       "      <td>0.261718</td>\n",
       "      <td>-0.806282</td>\n",
       "      <td>0.597681</td>\n",
       "      <td>-0.601277</td>\n",
       "      <td>0.126447</td>\n",
       "      <td>-0.909619</td>\n",
       "      <td>Paithonius</td>\n",
       "    </tr>\n",
       "    <tr>\n",
       "      <th>2</th>\n",
       "      <td>2</td>\n",
       "      <td>0.167323</td>\n",
       "      <td>0.313302</td>\n",
       "      <td>0.168055</td>\n",
       "      <td>-0.383198</td>\n",
       "      <td>0.261718</td>\n",
       "      <td>0.190314</td>\n",
       "      <td>0.824183</td>\n",
       "      <td>0.558250</td>\n",
       "      <td>-0.247731</td>\n",
       "      <td>-0.148073</td>\n",
       "      <td>Marcus</td>\n",
       "    </tr>\n",
       "    <tr>\n",
       "      <th>3</th>\n",
       "      <td>3</td>\n",
       "      <td>-0.017834</td>\n",
       "      <td>-0.228430</td>\n",
       "      <td>0.370770</td>\n",
       "      <td>1.293671</td>\n",
       "      <td>0.172340</td>\n",
       "      <td>0.896237</td>\n",
       "      <td>0.182426</td>\n",
       "      <td>0.416867</td>\n",
       "      <td>1.373706</td>\n",
       "      <td>0.868284</td>\n",
       "      <td>Noaelius</td>\n",
       "    </tr>\n",
       "    <tr>\n",
       "      <th>4</th>\n",
       "      <td>4</td>\n",
       "      <td>0.043885</td>\n",
       "      <td>0.407516</td>\n",
       "      <td>-0.120014</td>\n",
       "      <td>0.281743</td>\n",
       "      <td>0.261718</td>\n",
       "      <td>-0.183409</td>\n",
       "      <td>0.106925</td>\n",
       "      <td>0.142896</td>\n",
       "      <td>0.531806</td>\n",
       "      <td>-0.101311</td>\n",
       "      <td>Marcus</td>\n",
       "    </tr>\n",
       "  </tbody>\n",
       "</table>\n",
       "</div>"
      ],
      "text/plain": [
       "   id  intercolumnar distance  upper margin  lower margin  exploitation  \\\n",
       "0   0               -0.091897      0.297600      0.079145      0.196496   \n",
       "1   1               -0.091897      0.226939      0.267634      0.024091   \n",
       "2   2                0.167323      0.313302      0.168055     -0.383198   \n",
       "3   3               -0.017834     -0.228430      0.370770      1.293671   \n",
       "4   4                0.043885      0.407516     -0.120014      0.281743   \n",
       "\n",
       "   row number  modular ratio  interlinear spacing    weight  peak number  \\\n",
       "0    0.261718       1.269960             0.446679 -0.751707     0.001721   \n",
       "1    0.261718      -0.806282             0.597681 -0.601277     0.126447   \n",
       "2    0.261718       0.190314             0.824183  0.558250    -0.247731   \n",
       "3    0.172340       0.896237             0.182426  0.416867     1.373706   \n",
       "4    0.261718      -0.183409             0.106925  0.142896     0.531806   \n",
       "\n",
       "   modular ratio/ interlinear spacing      scribe  \n",
       "0                            0.998901   Philippus  \n",
       "1                           -0.909619  Paithonius  \n",
       "2                           -0.148073      Marcus  \n",
       "3                            0.868284    Noaelius  \n",
       "4                           -0.101311      Marcus  "
      ]
     },
     "execution_count": 5,
     "metadata": {},
     "output_type": "execute_result"
    }
   ],
   "source": [
    "df.head()"
   ]
  },
  {
   "cell_type": "code",
   "execution_count": 6,
   "metadata": {},
   "outputs": [
    {
     "data": {
      "text/plain": [
       "id                                    0\n",
       "intercolumnar distance                0\n",
       "upper margin                          0\n",
       "lower margin                          0\n",
       "exploitation                          0\n",
       "row number                            0\n",
       "modular ratio                         0\n",
       "interlinear spacing                   0\n",
       "weight                                0\n",
       "peak number                           0\n",
       "modular ratio/ interlinear spacing    0\n",
       "scribe                                0\n",
       "dtype: int64"
      ]
     },
     "execution_count": 6,
     "metadata": {},
     "output_type": "execute_result"
    }
   ],
   "source": [
    "df.isna().sum()"
   ]
  },
  {
   "cell_type": "code",
   "execution_count": 7,
   "metadata": {},
   "outputs": [
    {
     "data": {
      "text/plain": [
       "array(['Philippus', 'Paithonius', 'Marcus', 'Noaelius', 'Begonius',\n",
       "       'Franciscus', 'Ubuntius', 'FerrumEffractarius'], dtype=object)"
      ]
     },
     "execution_count": 7,
     "metadata": {},
     "output_type": "execute_result"
    }
   ],
   "source": [
    "df[\"scribe\"].unique()"
   ]
  },
  {
   "cell_type": "code",
   "execution_count": 8,
   "metadata": {},
   "outputs": [],
   "source": [
    "df[\"scribe\"].replace(to_replace={\"Philippus\" : 0, \"Paithonius\" : 1, \"Marcus\" : 2, \"Noaelius\" : 3, \"Begonius\" : 4\n",
    "                                    , \"Franciscus\" : 5, \"Ubuntius\" : 6, \"FerrumEffractarius\" : 7}, inplace=True)"
   ]
  },
  {
   "cell_type": "code",
   "execution_count": 9,
   "metadata": {},
   "outputs": [],
   "source": [
    "X = df[[\"id\", \"intercolumnar distance\", \"upper margin\", \"lower margin\", \"exploitation\", \"row number\", \"modular ratio\", \"interlinear spacing\", \"weight\", \"peak number\", \"modular ratio/ interlinear spacing\"]]"
   ]
  },
  {
   "cell_type": "code",
   "execution_count": 10,
   "metadata": {},
   "outputs": [],
   "source": [
    "y = df[\"scribe\"]"
   ]
  },
  {
   "cell_type": "code",
   "execution_count": 11,
   "metadata": {},
   "outputs": [],
   "source": [
    "X_train, X_test, y_train, y_test = train_test_split(X, y, test_size=0.2)"
   ]
  },
  {
   "cell_type": "code",
   "execution_count": 12,
   "metadata": {},
   "outputs": [],
   "source": [
    "clf = GradientBoostingClassifier().fit(X_train, y_train)"
   ]
  },
  {
   "cell_type": "code",
   "execution_count": 13,
   "metadata": {},
   "outputs": [
    {
     "data": {
      "text/plain": [
       "0.9463394342762064"
      ]
     },
     "execution_count": 13,
     "metadata": {},
     "output_type": "execute_result"
    }
   ],
   "source": [
    "clf.score(X_test, y_test)"
   ]
  },
  {
   "cell_type": "code",
   "execution_count": 14,
   "metadata": {},
   "outputs": [
    {
     "name": "stdout",
     "output_type": "stream",
     "text": [
      "Training model: GradientBoostingClassifier\n",
      "Training model: RandomForestClassifier\n",
      "Training model: AdaBoostClassifier\n"
     ]
    },
    {
     "name": "stderr",
     "output_type": "stream",
     "text": [
      "/usr/local/lib/python3.7/site-packages/sklearn/ensemble/forest.py:245: FutureWarning: The default value of n_estimators will change from 10 in version 0.20 to 100 in 0.22.\n",
      "  \"10 in version 0.20 to 100 in 0.22.\", FutureWarning)\n"
     ]
    },
    {
     "name": "stdout",
     "output_type": "stream",
     "text": [
      "Training model: SVC\n"
     ]
    },
    {
     "name": "stderr",
     "output_type": "stream",
     "text": [
      "/usr/local/lib/python3.7/site-packages/sklearn/svm/base.py:193: FutureWarning: The default value of gamma will change from 'auto' to 'scale' in version 0.22 to account better for unscaled features. Set gamma explicitly to 'auto' or 'scale' to avoid this warning.\n",
      "  \"avoid this warning.\", FutureWarning)\n"
     ]
    }
   ],
   "source": [
    "models = {\n",
    "    \"GradientBoostingClassifier\" : GradientBoostingClassifier() ,\n",
    "    \"RandomForestClassifier\" : RandomForestClassifier(),\n",
    "    \"AdaBoostClassifier\" : AdaBoostClassifier(),\n",
    "    \"SVC\" : SVC()\n",
    "}\n",
    "\n",
    "for modelName, model in models.items():\n",
    "    print(f\"Training model: {modelName}\")\n",
    "    model.fit(X_train, y_train)"
   ]
  },
  {
   "cell_type": "code",
   "execution_count": 15,
   "metadata": {},
   "outputs": [
    {
     "data": {
      "text/html": [
       "<div>\n",
       "<style scoped>\n",
       "    .dataframe tbody tr th:only-of-type {\n",
       "        vertical-align: middle;\n",
       "    }\n",
       "\n",
       "    .dataframe tbody tr th {\n",
       "        vertical-align: top;\n",
       "    }\n",
       "\n",
       "    .dataframe thead th {\n",
       "        text-align: right;\n",
       "    }\n",
       "</style>\n",
       "<table border=\"1\" class=\"dataframe\">\n",
       "  <thead>\n",
       "    <tr style=\"text-align: right;\">\n",
       "      <th></th>\n",
       "      <th>GradientBoostingClassifier</th>\n",
       "      <th>RandomForestClassifier</th>\n",
       "      <th>AdaBoostClassifier</th>\n",
       "      <th>SVC</th>\n",
       "      <th>gt</th>\n",
       "    </tr>\n",
       "  </thead>\n",
       "  <tbody>\n",
       "    <tr>\n",
       "      <th>0</th>\n",
       "      <td>3</td>\n",
       "      <td>3</td>\n",
       "      <td>2</td>\n",
       "      <td>2</td>\n",
       "      <td>3</td>\n",
       "    </tr>\n",
       "    <tr>\n",
       "      <th>1</th>\n",
       "      <td>4</td>\n",
       "      <td>4</td>\n",
       "      <td>4</td>\n",
       "      <td>2</td>\n",
       "      <td>4</td>\n",
       "    </tr>\n",
       "    <tr>\n",
       "      <th>2</th>\n",
       "      <td>5</td>\n",
       "      <td>2</td>\n",
       "      <td>2</td>\n",
       "      <td>2</td>\n",
       "      <td>5</td>\n",
       "    </tr>\n",
       "    <tr>\n",
       "      <th>3</th>\n",
       "      <td>4</td>\n",
       "      <td>4</td>\n",
       "      <td>4</td>\n",
       "      <td>2</td>\n",
       "      <td>4</td>\n",
       "    </tr>\n",
       "    <tr>\n",
       "      <th>4</th>\n",
       "      <td>0</td>\n",
       "      <td>0</td>\n",
       "      <td>2</td>\n",
       "      <td>2</td>\n",
       "      <td>0</td>\n",
       "    </tr>\n",
       "    <tr>\n",
       "      <th>...</th>\n",
       "      <td>...</td>\n",
       "      <td>...</td>\n",
       "      <td>...</td>\n",
       "      <td>...</td>\n",
       "      <td>...</td>\n",
       "    </tr>\n",
       "    <tr>\n",
       "      <th>2399</th>\n",
       "      <td>2</td>\n",
       "      <td>2</td>\n",
       "      <td>2</td>\n",
       "      <td>2</td>\n",
       "      <td>2</td>\n",
       "    </tr>\n",
       "    <tr>\n",
       "      <th>2400</th>\n",
       "      <td>2</td>\n",
       "      <td>2</td>\n",
       "      <td>2</td>\n",
       "      <td>2</td>\n",
       "      <td>2</td>\n",
       "    </tr>\n",
       "    <tr>\n",
       "      <th>2401</th>\n",
       "      <td>5</td>\n",
       "      <td>5</td>\n",
       "      <td>2</td>\n",
       "      <td>2</td>\n",
       "      <td>5</td>\n",
       "    </tr>\n",
       "    <tr>\n",
       "      <th>2402</th>\n",
       "      <td>0</td>\n",
       "      <td>0</td>\n",
       "      <td>2</td>\n",
       "      <td>2</td>\n",
       "      <td>0</td>\n",
       "    </tr>\n",
       "    <tr>\n",
       "      <th>2403</th>\n",
       "      <td>6</td>\n",
       "      <td>6</td>\n",
       "      <td>2</td>\n",
       "      <td>2</td>\n",
       "      <td>6</td>\n",
       "    </tr>\n",
       "  </tbody>\n",
       "</table>\n",
       "<p>2404 rows × 5 columns</p>\n",
       "</div>"
      ],
      "text/plain": [
       "      GradientBoostingClassifier  RandomForestClassifier  AdaBoostClassifier  \\\n",
       "0                              3                       3                   2   \n",
       "1                              4                       4                   4   \n",
       "2                              5                       2                   2   \n",
       "3                              4                       4                   4   \n",
       "4                              0                       0                   2   \n",
       "...                          ...                     ...                 ...   \n",
       "2399                           2                       2                   2   \n",
       "2400                           2                       2                   2   \n",
       "2401                           5                       5                   2   \n",
       "2402                           0                       0                   2   \n",
       "2403                           6                       6                   2   \n",
       "\n",
       "      SVC  gt  \n",
       "0       2   3  \n",
       "1       2   4  \n",
       "2       2   5  \n",
       "3       2   4  \n",
       "4       2   0  \n",
       "...   ...  ..  \n",
       "2399    2   2  \n",
       "2400    2   2  \n",
       "2401    2   5  \n",
       "2402    2   0  \n",
       "2403    2   6  \n",
       "\n",
       "[2404 rows x 5 columns]"
      ]
     },
     "execution_count": 15,
     "metadata": {},
     "output_type": "execute_result"
    }
   ],
   "source": [
    "d = {modelName:model.predict(X_test) for modelName, model in models.items()}\n",
    "table = pd.DataFrame(d)\n",
    "table[\"gt\"] = y_test.reset_index(drop=True)\n",
    "table"
   ]
  },
  {
   "cell_type": "code",
   "execution_count": 16,
   "metadata": {},
   "outputs": [
    {
     "name": "stdout",
     "output_type": "stream",
     "text": [
      "Evaluating model [GradientBoostingClassifier]:\n",
      "Accuracy 0.9463394342762064\n",
      "Precision 0.9469894306924242\n",
      "Recall 0.9463394342762064\n",
      "Evaluating model [RandomForestClassifier]:\n",
      "Accuracy 0.9542429284525791\n",
      "Precision 0.9546880950472497\n",
      "Recall 0.9542429284525791\n",
      "Evaluating model [AdaBoostClassifier]:\n",
      "Accuracy 0.4933444259567388\n",
      "Precision 0.2976132226996867\n",
      "Recall 0.4933444259567388\n",
      "Evaluating model [SVC]:\n",
      "Accuracy 0.39933444259567386\n",
      "Precision 0.27312395457607563\n",
      "Recall 0.39933444259567386\n"
     ]
    },
    {
     "name": "stderr",
     "output_type": "stream",
     "text": [
      "/usr/local/lib/python3.7/site-packages/sklearn/metrics/classification.py:1437: UndefinedMetricWarning: Precision is ill-defined and being set to 0.0 in labels with no predicted samples.\n",
      "  'precision', 'predicted', average, warn_for)\n"
     ]
    }
   ],
   "source": [
    "for modelName, model in models.items():    \n",
    "    print(f\"Evaluating model [{modelName}]:\")\n",
    "    print(\"Accuracy\", accuracy_score(table[\"gt\"], table[modelName]))\n",
    "    print(\"Precision\", precision_score(table[\"gt\"], table[modelName], average='weighted'))\n",
    "    print(\"Recall\", recall_score(table[\"gt\"], table[modelName], average='weighted'))"
   ]
  },
  {
   "cell_type": "code",
   "execution_count": 17,
   "metadata": {},
   "outputs": [],
   "source": [
    "clf = GradientBoostingClassifier(n_estimators=500, learning_rate=0.3).fit(X_train, y_train)"
   ]
  },
  {
   "cell_type": "code",
   "execution_count": 18,
   "metadata": {},
   "outputs": [
    {
     "data": {
      "text/plain": [
       "0.9979201331114809"
      ]
     },
     "execution_count": 18,
     "metadata": {},
     "output_type": "execute_result"
    }
   ],
   "source": [
    "clf.score(X_test, y_test)"
   ]
  },
  {
   "cell_type": "code",
   "execution_count": 19,
   "metadata": {},
   "outputs": [],
   "source": [
    "clf_final = GradientBoostingClassifier(n_estimators=500, learning_rate=0.3).fit(X, y)"
   ]
  },
  {
   "cell_type": "code",
   "execution_count": 20,
   "metadata": {},
   "outputs": [],
   "source": [
    "preds = clf.predict(df_test)"
   ]
  },
  {
   "cell_type": "code",
   "execution_count": 21,
   "metadata": {},
   "outputs": [
    {
     "data": {
      "text/html": [
       "<div>\n",
       "<style scoped>\n",
       "    .dataframe tbody tr th:only-of-type {\n",
       "        vertical-align: middle;\n",
       "    }\n",
       "\n",
       "    .dataframe tbody tr th {\n",
       "        vertical-align: top;\n",
       "    }\n",
       "\n",
       "    .dataframe thead th {\n",
       "        text-align: right;\n",
       "    }\n",
       "</style>\n",
       "<table border=\"1\" class=\"dataframe\">\n",
       "  <thead>\n",
       "    <tr style=\"text-align: right;\">\n",
       "      <th></th>\n",
       "      <th>id</th>\n",
       "      <th>F1</th>\n",
       "      <th>F2</th>\n",
       "      <th>F3</th>\n",
       "      <th>F4</th>\n",
       "      <th>F5</th>\n",
       "      <th>F6</th>\n",
       "      <th>F7</th>\n",
       "      <th>F8</th>\n",
       "      <th>F9</th>\n",
       "      <th>F10</th>\n",
       "    </tr>\n",
       "  </thead>\n",
       "  <tbody>\n",
       "    <tr>\n",
       "      <th>0</th>\n",
       "      <td>0</td>\n",
       "      <td>-0.042522</td>\n",
       "      <td>0.007106</td>\n",
       "      <td>0.264078</td>\n",
       "      <td>-0.162546</td>\n",
       "      <td>0.172340</td>\n",
       "      <td>-1.055431</td>\n",
       "      <td>0.106925</td>\n",
       "      <td>0.680858</td>\n",
       "      <td>0.781258</td>\n",
       "      <td>-0.901193</td>\n",
       "    </tr>\n",
       "    <tr>\n",
       "      <th>1</th>\n",
       "      <td>1</td>\n",
       "      <td>0.315450</td>\n",
       "      <td>0.540986</td>\n",
       "      <td>0.029355</td>\n",
       "      <td>-0.395163</td>\n",
       "      <td>0.261718</td>\n",
       "      <td>-1.055431</td>\n",
       "      <td>0.182426</td>\n",
       "      <td>-0.643408</td>\n",
       "      <td>0.095265</td>\n",
       "      <td>-0.925038</td>\n",
       "    </tr>\n",
       "    <tr>\n",
       "      <th>2</th>\n",
       "      <td>2</td>\n",
       "      <td>-0.351118</td>\n",
       "      <td>-0.244132</td>\n",
       "      <td>0.594823</td>\n",
       "      <td>1.592678</td>\n",
       "      <td>0.797987</td>\n",
       "      <td>0.397939</td>\n",
       "      <td>-1.025587</td>\n",
       "      <td>1.157371</td>\n",
       "      <td>1.591976</td>\n",
       "      <td>1.278013</td>\n",
       "    </tr>\n",
       "    <tr>\n",
       "      <th>3</th>\n",
       "      <td>3</td>\n",
       "      <td>0.327793</td>\n",
       "      <td>0.336855</td>\n",
       "      <td>-0.020434</td>\n",
       "      <td>1.086893</td>\n",
       "      <td>0.261718</td>\n",
       "      <td>-0.307984</td>\n",
       "      <td>0.220177</td>\n",
       "      <td>0.449873</td>\n",
       "      <td>-0.528364</td>\n",
       "      <td>-0.276773</td>\n",
       "    </tr>\n",
       "    <tr>\n",
       "      <th>4</th>\n",
       "      <td>4</td>\n",
       "      <td>0.019197</td>\n",
       "      <td>-0.087108</td>\n",
       "      <td>0.384996</td>\n",
       "      <td>0.794958</td>\n",
       "      <td>0.261718</td>\n",
       "      <td>0.314889</td>\n",
       "      <td>-0.044076</td>\n",
       "      <td>-1.067421</td>\n",
       "      <td>-0.715453</td>\n",
       "      <td>0.440809</td>\n",
       "    </tr>\n",
       "    <tr>\n",
       "      <th>...</th>\n",
       "      <td>...</td>\n",
       "      <td>...</td>\n",
       "      <td>...</td>\n",
       "      <td>...</td>\n",
       "      <td>...</td>\n",
       "      <td>...</td>\n",
       "      <td>...</td>\n",
       "      <td>...</td>\n",
       "      <td>...</td>\n",
       "      <td>...</td>\n",
       "      <td>...</td>\n",
       "    </tr>\n",
       "    <tr>\n",
       "      <th>8007</th>\n",
       "      <td>8007</td>\n",
       "      <td>0.364825</td>\n",
       "      <td>0.368260</td>\n",
       "      <td>0.192950</td>\n",
       "      <td>-0.420406</td>\n",
       "      <td>0.261718</td>\n",
       "      <td>-1.096956</td>\n",
       "      <td>0.635431</td>\n",
       "      <td>0.086146</td>\n",
       "      <td>0.375899</td>\n",
       "      <td>-1.167768</td>\n",
       "    </tr>\n",
       "    <tr>\n",
       "      <th>8008</th>\n",
       "      <td>8008</td>\n",
       "      <td>0.154980</td>\n",
       "      <td>0.234790</td>\n",
       "      <td>0.210732</td>\n",
       "      <td>0.643738</td>\n",
       "      <td>0.172340</td>\n",
       "      <td>0.896237</td>\n",
       "      <td>0.257927</td>\n",
       "      <td>0.537379</td>\n",
       "      <td>0.126447</td>\n",
       "      <td>0.772337</td>\n",
       "    </tr>\n",
       "    <tr>\n",
       "      <th>8009</th>\n",
       "      <td>8009</td>\n",
       "      <td>0.080916</td>\n",
       "      <td>0.101320</td>\n",
       "      <td>0.104040</td>\n",
       "      <td>0.140490</td>\n",
       "      <td>0.261718</td>\n",
       "      <td>-0.100360</td>\n",
       "      <td>0.220177</td>\n",
       "      <td>-0.992982</td>\n",
       "      <td>-1.339082</td>\n",
       "      <td>-0.102733</td>\n",
       "    </tr>\n",
       "    <tr>\n",
       "      <th>8010</th>\n",
       "      <td>8010</td>\n",
       "      <td>-0.017834</td>\n",
       "      <td>-0.330495</td>\n",
       "      <td>0.488131</td>\n",
       "      <td>-0.183313</td>\n",
       "      <td>0.172340</td>\n",
       "      <td>-0.515608</td>\n",
       "      <td>0.333428</td>\n",
       "      <td>-0.079255</td>\n",
       "      <td>-0.278912</td>\n",
       "      <td>-0.521155</td>\n",
       "    </tr>\n",
       "    <tr>\n",
       "      <th>8011</th>\n",
       "      <td>8011</td>\n",
       "      <td>-0.116585</td>\n",
       "      <td>-0.652394</td>\n",
       "      <td>0.505913</td>\n",
       "      <td>-1.248740</td>\n",
       "      <td>0.261718</td>\n",
       "      <td>0.148790</td>\n",
       "      <td>0.106925</td>\n",
       "      <td>-1.221949</td>\n",
       "      <td>-0.434820</td>\n",
       "      <td>0.198440</td>\n",
       "    </tr>\n",
       "  </tbody>\n",
       "</table>\n",
       "<p>8012 rows × 11 columns</p>\n",
       "</div>"
      ],
      "text/plain": [
       "        id        F1        F2        F3        F4        F5        F6  \\\n",
       "0        0 -0.042522  0.007106  0.264078 -0.162546  0.172340 -1.055431   \n",
       "1        1  0.315450  0.540986  0.029355 -0.395163  0.261718 -1.055431   \n",
       "2        2 -0.351118 -0.244132  0.594823  1.592678  0.797987  0.397939   \n",
       "3        3  0.327793  0.336855 -0.020434  1.086893  0.261718 -0.307984   \n",
       "4        4  0.019197 -0.087108  0.384996  0.794958  0.261718  0.314889   \n",
       "...    ...       ...       ...       ...       ...       ...       ...   \n",
       "8007  8007  0.364825  0.368260  0.192950 -0.420406  0.261718 -1.096956   \n",
       "8008  8008  0.154980  0.234790  0.210732  0.643738  0.172340  0.896237   \n",
       "8009  8009  0.080916  0.101320  0.104040  0.140490  0.261718 -0.100360   \n",
       "8010  8010 -0.017834 -0.330495  0.488131 -0.183313  0.172340 -0.515608   \n",
       "8011  8011 -0.116585 -0.652394  0.505913 -1.248740  0.261718  0.148790   \n",
       "\n",
       "            F7        F8        F9       F10  \n",
       "0     0.106925  0.680858  0.781258 -0.901193  \n",
       "1     0.182426 -0.643408  0.095265 -0.925038  \n",
       "2    -1.025587  1.157371  1.591976  1.278013  \n",
       "3     0.220177  0.449873 -0.528364 -0.276773  \n",
       "4    -0.044076 -1.067421 -0.715453  0.440809  \n",
       "...        ...       ...       ...       ...  \n",
       "8007  0.635431  0.086146  0.375899 -1.167768  \n",
       "8008  0.257927  0.537379  0.126447  0.772337  \n",
       "8009  0.220177 -0.992982 -1.339082 -0.102733  \n",
       "8010  0.333428 -0.079255 -0.278912 -0.521155  \n",
       "8011  0.106925 -1.221949 -0.434820  0.198440  \n",
       "\n",
       "[8012 rows x 11 columns]"
      ]
     },
     "execution_count": 21,
     "metadata": {},
     "output_type": "execute_result"
    }
   ],
   "source": [
    "df_test"
   ]
  },
  {
   "cell_type": "code",
   "execution_count": 22,
   "metadata": {},
   "outputs": [
    {
     "data": {
      "text/plain": [
       "array([5, 6, 3, ..., 2, 0, 5])"
      ]
     },
     "execution_count": 22,
     "metadata": {},
     "output_type": "execute_result"
    }
   ],
   "source": [
    "submit = df_test[\"id\"]\n",
    "preds"
   ]
  },
  {
   "cell_type": "code",
   "execution_count": 23,
   "metadata": {},
   "outputs": [],
   "source": [
    "submit = df_test[\"id\"]\n",
    "predicted = {\"scribe\" : preds}"
   ]
  },
  {
   "cell_type": "code",
   "execution_count": 24,
   "metadata": {},
   "outputs": [],
   "source": [
    "predicted = pd.DataFrame(predicted)"
   ]
  },
  {
   "cell_type": "code",
   "execution_count": 25,
   "metadata": {},
   "outputs": [],
   "source": [
    "submit = pd.DataFrame(submit)"
   ]
  },
  {
   "cell_type": "code",
   "execution_count": 26,
   "metadata": {},
   "outputs": [],
   "source": [
    "submit[\"scribe\"] = predicted"
   ]
  },
  {
   "cell_type": "code",
   "execution_count": 27,
   "metadata": {},
   "outputs": [],
   "source": [
    "submit[\"scribe\"].replace(to_replace={0 : \"Philippus\", 1 : \"Paithonius\", 2 : \"Marcus\", 3 : \"Noaelius\", 4 : \"Begonius\"\n",
    "                                    , 5 : \"Franciscus\", 6 : \"Ubuntius\", 7 : \"FerrumEffractarius\"}, inplace=True)"
   ]
  },
  {
   "cell_type": "code",
   "execution_count": null,
   "metadata": {},
   "outputs": [],
   "source": []
  },
  {
   "cell_type": "code",
   "execution_count": null,
   "metadata": {},
   "outputs": [],
   "source": []
  },
  {
   "cell_type": "code",
   "execution_count": 31,
   "metadata": {},
   "outputs": [],
   "source": [
    "submit.set_index(\"id\", inplace=True)"
   ]
  },
  {
   "cell_type": "code",
   "execution_count": 32,
   "metadata": {},
   "outputs": [],
   "source": [
    "submit.to_csv(\"./avila/predictions.csv\")"
   ]
  },
  {
   "cell_type": "code",
   "execution_count": null,
   "metadata": {},
   "outputs": [],
   "source": []
  }
 ],
 "metadata": {
  "kernelspec": {
   "display_name": "Python 3",
   "language": "python",
   "name": "python3"
  },
  "language_info": {
   "codemirror_mode": {
    "name": "ipython",
    "version": 3
   },
   "file_extension": ".py",
   "mimetype": "text/x-python",
   "name": "python",
   "nbconvert_exporter": "python",
   "pygments_lexer": "ipython3",
   "version": "3.7.5"
  }
 },
 "nbformat": 4,
 "nbformat_minor": 2
}
